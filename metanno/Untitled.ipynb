{
 "cells": [
  {
   "cell_type": "code",
   "execution_count": 1,
   "id": "976275c5-28ad-4bac-a8d8-b0167b324f92",
   "metadata": {},
   "outputs": [],
   "source": [
    "import metanno"
   ]
  },
  {
   "cell_type": "code",
   "execution_count": 2,
   "id": "bf88528b-a3e6-4bc1-b6e9-b66e76c13aba",
   "metadata": {},
   "outputs": [
    {
     "ename": "NameError",
     "evalue": "name 'TextAnnotation' is not defined",
     "output_type": "error",
     "traceback": [
      "\u001b[0;31m---------------------------------------------------------------------------\u001b[0m",
      "\u001b[0;31mNameError\u001b[0m                                 Traceback (most recent call last)",
      "Cell \u001b[0;32mIn [2], line 4\u001b[0m\n\u001b[1;32m      1\u001b[0m \u001b[38;5;28;01mfrom\u001b[39;00m \u001b[38;5;21;01mtyping\u001b[39;00m \u001b[38;5;28;01mimport\u001b[39;00m TypedDict, List\n\u001b[1;32m      2\u001b[0m \u001b[38;5;28;01mfrom\u001b[39;00m \u001b[38;5;21;01mmetanno\u001b[39;00m \u001b[38;5;28;01mimport\u001b[39;00m TextWidget, kernel_only, frontend_only, TableWidget\n\u001b[0;32m----> 4\u001b[0m \u001b[38;5;28;01mclass\u001b[39;00m \u001b[38;5;21;01mCustomState\u001b[39;00m(TypedDict):\n\u001b[1;32m      5\u001b[0m     text: \u001b[38;5;28mstr\u001b[39m\n\u001b[1;32m      6\u001b[0m     spans: List[TextAnnotation]\n",
      "Cell \u001b[0;32mIn [2], line 6\u001b[0m, in \u001b[0;36mCustomState\u001b[0;34m()\u001b[0m\n\u001b[1;32m      4\u001b[0m \u001b[38;5;28;01mclass\u001b[39;00m \u001b[38;5;21;01mCustomState\u001b[39;00m(TypedDict):\n\u001b[1;32m      5\u001b[0m     text: \u001b[38;5;28mstr\u001b[39m\n\u001b[0;32m----> 6\u001b[0m     spans: List[\u001b[43mTextAnnotation\u001b[49m]\n\u001b[1;32m      7\u001b[0m     hovered: List[\u001b[38;5;28mstr\u001b[39m]\n\u001b[1;32m      8\u001b[0m     styles: Dict[\u001b[38;5;28mstr\u001b[39m, Style]\n",
      "\u001b[0;31mNameError\u001b[0m: name 'TextAnnotation' is not defined"
     ]
    }
   ],
   "source": [
    "from typing import TypedDict, List\n",
    "from metanno import TextWidget, kernel_only, frontend_only, TableWidget\n",
    "\n",
    "class CustomState(TypedDict):\n",
    "    text: str\n",
    "    spans: List[TextAnnotation]\n",
    "    hovered: List[str]\n",
    "    styles: Dict[str, Style]\n",
    "    mouse_selection: List[TextSpan]\n",
    "\n",
    "class CustomTextWidget(TextWidget[CustomState]):\n",
    "    @frontend_only\n",
    "    def handle_mouse_enter_span(self, span_id: str, modkeys: List[str]):\n",
    "        self.state['hovered'].append(span_id)\n",
    "        \n",
    "    @frontend_only\n",
    "    def handle_mouse_leave_span(self, span_id: str, modkeys: List[str]):\n",
    "        self.state['hovered'] = [i for i in self.state['hovered'] if i != span_id]\n",
    "        #self.get_widget('...').focus()\n",
    "        \n",
    "    def handle_mouse_select(self, modkeys: List[str], spans: List[TextSpan]):\n",
    "        # self.state[\"spans\"].extend([\n",
    "        #     {**span, \"id\": f\"{span['begin']}-{span['end']}\", \"label\": \"LAB\", \"style\": \"red\"}\n",
    "        #     for span in spans\n",
    "        # ])\n",
    "        self.state[\"mouse_selection\"] = spans\n",
    "        \n",
    "    def handle_key_press(self, key: str, modkeys: List[str], spans: List[TextSpan]):\n",
    "        suffix = 5#self.get_py_variable()\n",
    "        new_spans = []\n",
    "        for span in spans:\n",
    "            new_spans.append({**span, \"id\": f\"{span['begin']}-{span['end']}\", \"label\": f\"LAB-{suffix}\", \"style\": \"red\"})\n",
    "        self.state[\"spans\"].extend(new_spans)\n",
    "        self.state[\"mouse_selection\"].clear()\n",
    "        \n",
    "    @kernel_only\n",
    "    def get_py_variable(self):\n",
    "        global global_variable\n",
    "        global_variable += 1\n",
    "        return global_variable\n",
    "\n",
    "    def render(self) -> TextViewProps:\n",
    "        return {\n",
    "            \"text\": self.state[\"text\"],\n",
    "            \"spans\": [\n",
    "                {**span, \"highlighted\": span[\"id\"] in self.state[\"hovered\"]}\n",
    "                for span in self.state[\"spans\"]\n",
    "            ],\n",
    "            \"styles\": self.state[\"styles\"],\n",
    "            \"mouse_selection\": self.state[\"mouse_selection\"],\n",
    "        }"
   ]
  },
  {
   "cell_type": "code",
   "execution_count": null,
   "id": "b1119e4f-b9f4-441c-a65b-c393eaf5b253",
   "metadata": {},
   "outputs": [],
   "source": []
  }
 ],
 "metadata": {
  "kernelspec": {
   "display_name": "py38",
   "language": "python",
   "name": "py38"
  },
  "language_info": {
   "codemirror_mode": {
    "name": "ipython",
    "version": 3
   },
   "file_extension": ".py",
   "mimetype": "text/x-python",
   "name": "python",
   "nbconvert_exporter": "python",
   "pygments_lexer": "ipython3",
   "version": "3.8.13"
  },
  "widgets": {
   "application/vnd.jupyter.widget-state+json": {
    "state": {},
    "version_major": 2,
    "version_minor": 0
   }
  }
 },
 "nbformat": 4,
 "nbformat_minor": 5
}
