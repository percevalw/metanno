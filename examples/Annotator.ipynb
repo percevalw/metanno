{
 "cells": [
  {
   "cell_type": "markdown",
   "metadata": {
    "pycharm": {
     "name": "#%% md\n"
    }
   },
   "source": [
    "# Metanno demo\n",
    "\n",
    "In the `recipes/ner.py` file is the main class of the application, it contains everything that allows us to control the application, that is what should be rendered, and how we should react to events.\n",
    "\n",
    "The `select_editor_state` function returns a json object based on the view that calls it.  \n",
    "In this example, we have three editors: one to render the annotations on the text, one to render them as an array, and one to view the list of documents.\n",
    "\n",
    "The `handle_...` functions define how the application should react to a user event.  \n",
    "The `@produce` decorator is used to allow the application to track state mutations in these functions.  \n",
    "For instance, look at how we handle a span hover with the `handle_enter_span` and `handle_leave_span` functions.\n",
    "To force the execution of a function only in the frontend or kernel, the `@kernel_only` and `@frontend_only` decorators must be used (note that we only use the `@frontend_only` decorator to keep the span hover logic in the browser). \n",
    "\n",
    "To start the application, run each cell of the notebook.\n",
    "\n",
    "You can change the layout of these views by right-clicking on them, clicking on `Detach` and moving them around."
   ]
  },
  {
   "cell_type": "code",
   "execution_count": 1,
   "metadata": {
    "pycharm": {
     "name": "#%%\n"
    }
   },
   "outputs": [],
   "source": [
    "from metanno.recipes.ner import NERApp, colors\n",
    "from metanno.connectors import BratDataConnector"
   ]
  },
  {
   "cell_type": "code",
   "execution_count": 2,
   "metadata": {
    "pycharm": {
     "name": "#%%\n"
    }
   },
   "outputs": [
    {
     "name": "stdout",
     "output_type": "stream",
     "text": [
      "Python file: /Users/perceval/Development/metanno/examples/test.py\n",
      "\n",
      "Transcrypt (TM) Python to JavaScript Small Sane Subset Transpiler Version 3.7.16\n",
      "Copyright (C) Geatec Engineering. License: Apache 2.0\n",
      "\n",
      "\n",
      "Saving target code in: /Users/perceval/Development/metanno/examples/__target__/test.js\n",
      "\n"
     ]
    }
   ],
   "source": [
    "data = BratDataConnector(\"./dataset/\", overwrite_ann=True)\n",
    "\n",
    "labels = sorted(set([ent[\"label\"] for doc in data.load() for ent in doc[\"entities\"]]))\n",
    "keys = {\"modality\": \"m\", \"experiencer\": \"x\", \"time\": \"t\"}\n",
    "for label in labels:\n",
    "    keys[label] = next(letter for letter in label.lower() if letter not in keys.values())\n",
    "app = NERApp(\n",
    "    data=data,\n",
    "    suggester=None,\n",
    "    scheme={\n",
    "        \"labels\": [\n",
    "            {\"name\": label, \"color\": colors[i], \"key\": keys[label], \"alias\": label}\n",
    "            for i, label in enumerate(labels)\n",
    "        ],\n",
    "        \"attributes\": [{\n",
    "            \"name\": \"modality\",\n",
    "            \"kind\": \"text\",\n",
    "            \"key\": \"m\",\n",
    "            \"color\": \"lightgrey\",\n",
    "            \"choices\": [\"factual\", \"negated\", \"conditional\", \"counterindication\", \"uncertain\", \"suggested\"]\n",
    "        }, {\n",
    "            \"name\": \"experiencer\",\n",
    "            \"kind\": \"text\",\n",
    "            \"key\": \"x\",\n",
    "            \"color\": \"lightgrey\",\n",
    "            \"choices\": [\"self\", \"family\", \"other\"],\n",
    "        }, {\n",
    "            \"name\": \"time\",\n",
    "            \"kind\": \"text\",\n",
    "            \"key\": \"t\",\n",
    "            \"color\": \"lightgrey\",\n",
    "            \"choices\": [\"present\", \"past\", \"future\"],\n",
    "        }, {\n",
    "            \"name\": \"concept\",\n",
    "            \"kind\": \"text\",\n",
    "            \"color\": \"lightgrey\",\n",
    "            \"choices\": [f\"C{n:04}\" for n in range(10000)],\n",
    "        }],\n",
    "    },\n",
    ")"
   ]
  },
  {
   "cell_type": "code",
   "execution_count": 8,
   "metadata": {
    "collapsed": true,
    "jupyter": {
     "outputs_hidden": true
    },
    "pycharm": {
     "name": "#%%\n"
    },
    "tags": []
   },
   "outputs": [
    {
     "data": {
      "application/vnd.jupyter.annotator+json": {
       "editor-id": "text",
       "editor-type": "span-editor",
       "version_major": 0,
       "version_minor": 0
      },
      "text/plain": [
       "<metanno.views.SpanEditor object at 0x7fde781d9330>"
      ]
     },
     "execution_count": 8,
     "metadata": {},
     "output_type": "execute_result"
    }
   ],
   "source": [
    "app.span_editor(\"text\")"
   ]
  },
  {
   "cell_type": "code",
   "execution_count": 3,
   "metadata": {
    "collapsed": true,
    "jupyter": {
     "outputs_hidden": true
    },
    "pycharm": {
     "name": "#%%\n"
    },
    "tags": []
   },
   "outputs": [
    {
     "data": {
      "application/vnd.jupyter.annotator+json": {
       "editor-id": "docs",
       "editor-type": "table-editor",
       "version_major": 0,
       "version_minor": 0
      },
      "text/plain": [
       "<metanno.views.TableEditor object at 0x7f85fc790880>"
      ]
     },
     "execution_count": 3,
     "metadata": {},
     "output_type": "execute_result"
    }
   ],
   "source": [
    "app.table_editor(\"docs\")"
   ]
  },
  {
   "cell_type": "code",
   "execution_count": 4,
   "metadata": {
    "collapsed": true,
    "jupyter": {
     "outputs_hidden": true
    },
    "pycharm": {
     "name": "#%%\n"
    },
    "tags": []
   },
   "outputs": [
    {
     "data": {
      "application/vnd.jupyter.annotator+json": {
       "editor-id": "entities",
       "editor-type": "table-editor",
       "version_major": 0,
       "version_minor": 0
      },
      "text/plain": [
       "<metanno.views.TableEditor object at 0x7f85fc790ac0>"
      ]
     },
     "execution_count": 4,
     "metadata": {},
     "output_type": "execute_result"
    }
   ],
   "source": [
    "app.table_editor(\"entities\")"
   ]
  },
  {
   "cell_type": "code",
   "execution_count": null,
   "metadata": {
    "pycharm": {
     "name": "#%%\n"
    }
   },
   "outputs": [],
   "source": [
    "# You can call the app methods from Python\n",
    "# and observe the changes directly in your browser\n",
    "app.change_doc(\"doc-2.txt\")"
   ]
  },
  {
   "cell_type": "code",
   "execution_count": null,
   "metadata": {
    "pycharm": {
     "name": "#%%\n"
    }
   },
   "outputs": [],
   "source": [
    "# and even mutate any part of the state directly\n",
    "app.state[\"doc_id\"] = 0  # set to the first doc"
   ]
  },
  {
   "cell_type": "code",
   "execution_count": null,
   "metadata": {
    "pycharm": {
     "name": "#%%\n"
    }
   },
   "outputs": [],
   "source": [
    "# Inspect the state\n",
    "app.state"
   ]
  },
  {
   "cell_type": "code",
   "execution_count": 48,
   "metadata": {
    "pycharm": {
     "name": "#%%\n"
    }
   },
   "outputs": [
    {
     "data": {
      "text/plain": [
       "10"
      ]
     },
     "execution_count": 48,
     "metadata": {},
     "output_type": "execute_result"
    }
   ],
   "source": [
    "3 + len(set(ngrams1) & set(ngrams2))"
   ]
  },
  {
   "cell_type": "code",
   "execution_count": 77,
   "metadata": {
    "pycharm": {
     "name": "#%%\n"
    }
   },
   "outputs": [
    {
     "name": "stdout",
     "output_type": "stream",
     "text": [
      "DICE 0.7777777777777778\n",
      "JACCARD 0.6363636363636364\n",
      "0.7272727272727273\n"
     ]
    }
   ],
   "source": [
    "t = \"##carcinome hepatocellulaire##\"\n",
    "ngrams1 = []\n",
    "for i in range(0, len(t)-3):\n",
    "    ngrams1.append(t[i:i+3])\n",
    "t = \"##hepatocellulaire carcinome##\"\n",
    "ngrams2 = []\n",
    "for i in range(0, len(t)-3):\n",
    "    ngrams2.append(t[i:i+3])\n",
    "    \n",
    "n1, n2 = len(set(ngrams1)), len(set(ngrams2))\n",
    "print(\"DICE\", 2 * len(set(ngrams1) & set(ngrams2)) / (len(set(ngrams1)) + len(set(ngrams2))))\n",
    "print(\"JACCARD\", len(set(ngrams1) & set(ngrams2)) / (len(set(ngrams1) | set(ngrams2))))\n",
    "print(min(min(n1, n2), 3 + len(set(ngrams1) & set(ngrams2))) / (len(set(ngrams1) | set(ngrams2))))"
   ]
  },
  {
   "cell_type": "code",
   "execution_count": 65,
   "metadata": {
    "pycharm": {
     "name": "#%%\n"
    }
   },
   "outputs": [
    {
     "data": {
      "text/plain": [
       "0.8"
      ]
     },
     "execution_count": 65,
     "metadata": {},
     "output_type": "execute_result"
    }
   ],
   "source": [
    "n1, n2 = len(set(ngrams1)), len(set(ngrams2))\n",
    "max(min(n1, n2), 3 + len(set(ngrams1) & set(ngrams2))) / (len(set(ngrams1) | set(ngrams2)))"
   ]
  },
  {
   "cell_type": "code",
   "execution_count": 35,
   "metadata": {
    "pycharm": {
     "name": "#%%\n"
    }
   },
   "outputs": [
    {
     "data": {
      "text/plain": [
       "0.72"
      ]
     },
     "execution_count": 35,
     "metadata": {},
     "output_type": "execute_result"
    }
   ],
   "source": [
    "2 * len(set(ngrams1) & set(ngrams2)) / (len(set(ngrams1)) + len(set(ngrams2)))"
   ]
  },
  {
   "cell_type": "code",
   "execution_count": 1,
   "metadata": {
    "pycharm": {
     "name": "#%%\n"
    }
   },
   "outputs": [],
   "source": [
    "%load_ext autoreload\n",
    "%autoreload 2"
   ]
  },
  {
   "cell_type": "code",
   "execution_count": 3,
   "metadata": {
    "pycharm": {
     "name": "#%%\n"
    }
   },
   "outputs": [
    {
     "data": {
      "text/html": [
       "<span class=\"tex2jax_ignore\"><div class=\"entities\" style=\"line-height: 2.5; direction: ltr\">J'aime le \n",
       "<mark class=\"entity\" style=\"background: #ddd; padding: 0.45em 0.6em; margin: 0 0.25em; line-height: 1; border-radius: 0.35em;\">\n",
       "    \n",
       "\n",
       "    <span style=\"font-size: 0.8em; font-weight: bold; line-height: 1; border-radius: 0.35em; vertical-align: middle; margin-left: 0.5rem\">excluded</span>\n",
       "</mark>\n",
       "fromage...</br></div></span>"
      ],
      "text/plain": [
       "<IPython.core.display.HTML object>"
      ]
     },
     "metadata": {},
     "output_type": "display_data"
    }
   ],
   "source": [
    "import spacy\n",
    "from edsnlp.pipelines.core.endlines.endlinesmodel import EndLinesModel\n",
    "import pandas as pd\n",
    "from spacy import displacy\n",
    "\n",
    "nlp = spacy.blank(\"fr\")\n",
    "\n",
    "texts = [\n",
    "    \"\"\"Le patient est arrivé hier soir.\n",
    "Il est accompagné par son fils\n",
    "\n",
    "ANTECEDENTS\n",
    "Il a fait une TS en 2010;\n",
    "Fumeur, il est arreté il a 5 mois\n",
    "Chirurgie de coeur en 2011\n",
    "CONCLUSION\n",
    "Il doit prendre\n",
    "le medicament indiqué 3 fois par jour. Revoir médecin\n",
    "dans 1 mois.\n",
    "DIAGNOSTIC :\n",
    "\n",
    "Antecedents Familiaux:\n",
    "- 1. Père avec diabete\n",
    "\n",
    "\"\"\",\n",
    "    \"\"\"J'aime le \\nfromage...\\n\"\"\",\n",
    "]\n",
    "\n",
    "docs = list(nlp.pipe(texts))\n",
    "\n",
    "# Train and predict an EndLinesModel\n",
    "endlines = EndLinesModel(nlp=nlp)\n",
    "\n",
    "df = endlines.fit_and_predict(docs)\n",
    "df.head()\n",
    "\n",
    "PATH = \"/tmp/path_to_save\"\n",
    "endlines.save(PATH)\n",
    "\n",
    "import spacy\n",
    "from spacy.tokens import Span\n",
    "\n",
    "nlp = spacy.blank(\"fr\")\n",
    "\n",
    "PATH = \"/tmp/path_to_save\"\n",
    "nlp.add_pipe(\"eds.endlines\", config=dict(model_path=PATH))\n",
    "\n",
    "docs = list(nlp.pipe(texts))\n",
    "\n",
    "doc_exemple = docs[1]\n",
    "\n",
    "doc_exemple\n",
    "\n",
    "doc_exemple.ents = tuple(\n",
    "    Span(doc_exemple, token.i, token.i + 1, \"excluded\") for token in doc_exemple if token.tag_ == \"EXCLUDED\"\n",
    ")\n",
    "\n",
    "displacy.render(doc_exemple, style=\"ent\", options={\"colors\": {\"space\": \"red\"}})"
   ]
  },
  {
   "cell_type": "code",
   "execution_count": 3,
   "metadata": {
    "pycharm": {
     "name": "#%%\n"
    }
   },
   "outputs": [
    {
     "name": "stdout",
     "output_type": "stream",
     "text": [
      "False\n",
      "-1\n",
      "-1\n",
      "-1\n",
      "-1\n",
      "-1\n",
      "-1\n",
      "-1\n",
      "-1\n",
      "-1\n",
      "-1\n",
      "1\n",
      "-1\n",
      "-1\n",
      "-1\n",
      "-1\n",
      "-1\n"
     ]
    }
   ],
   "source": [
    "for token in doc:\n",
    "    print(token.sent_start)"
   ]
  },
  {
   "cell_type": "code",
   "execution_count": null,
   "metadata": {
    "pycharm": {
     "name": "#%%\n"
    }
   },
   "outputs": [],
   "source": []
  }
 ],
 "metadata": {
  "kernelspec": {
   "display_name": "py310",
   "language": "python",
   "name": "py310"
  },
  "language_info": {
   "codemirror_mode": {
    "name": "ipython",
    "version": 3
   },
   "file_extension": ".py",
   "mimetype": "text/x-python",
   "name": "python",
   "nbconvert_exporter": "python",
   "pygments_lexer": "ipython3",
   "version": "3.10.6"
  },
  "widgets": {
   "application/vnd.jupyter.widget-state+json": {
    "state": {},
    "version_major": 2,
    "version_minor": 0
   }
  }
 },
 "nbformat": 4,
 "nbformat_minor": 4
}
