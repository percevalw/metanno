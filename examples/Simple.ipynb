{
 "cells": [
  {
   "cell_type": "code",
   "execution_count": 19,
   "id": "07902747-e832-485f-a938-6194d1133860",
   "metadata": {
    "pycharm": {
     "name": "#%%\n"
    }
   },
   "outputs": [
    {
     "name": "stdout",
     "output_type": "stream",
     "text": [
      "The autoreload extension is already loaded. To reload it, use:\n",
      "  %reload_ext autoreload\n"
     ]
    }
   ],
   "source": [
    "%load_ext autoreload\n",
    "%autoreload 2"
   ]
  },
  {
   "cell_type": "code",
   "execution_count": 20,
   "id": "17adae05-6cb1-4905-b59c-a537bb48df46",
   "metadata": {
    "pycharm": {
     "name": "#%%\n"
    }
   },
   "outputs": [],
   "source": [
    "import sys\n",
    "sys.path.insert(0, \"/Users/perceval/Development/metanno/\")"
   ]
  },
  {
   "cell_type": "code",
   "execution_count": 46,
   "id": "a3c1df81-79f8-403a-86f9-bd4444d47ceb",
   "metadata": {
    "pycharm": {
     "name": "#%%\n"
    }
   },
   "outputs": [
    {
     "data": {
      "text/plain": [
       "[{'type': 'button', 'label': '⌫', 'color': 'white', 'key': 'Backspace'},\n",
       " {'type': 'spacer'},\n",
       " {'type': 'button',\n",
       "  'label': 'a',\n",
       "  'secondary': 'a',\n",
       "  'color': 'rgb(255,200,206)',\n",
       "  'key': 'a'},\n",
       " {'type': 'button',\n",
       "  'label': 'b',\n",
       "  'secondary': 'b',\n",
       "  'color': 'rgb(210,236,247)',\n",
       "  'key': 'b'},\n",
       " {'type': 'button',\n",
       "  'label': 'c',\n",
       "  'secondary': 'c',\n",
       "  'color': 'rgb(211,242,206)',\n",
       "  'key': 'c'},\n",
       " {'type': 'button',\n",
       "  'label': 'd',\n",
       "  'secondary': 'd',\n",
       "  'color': 'rgb(242,242,206)',\n",
       "  'key': 'd'},\n",
       " {'type': 'button',\n",
       "  'label': 'e',\n",
       "  'secondary': 'e',\n",
       "  'color': 'rgb(231,210,247)',\n",
       "  'key': 'e'},\n",
       " {'type': 'button',\n",
       "  'label': 'f',\n",
       "  'secondary': 'f',\n",
       "  'color': 'rgb(252,215,216)',\n",
       "  'key': 'f'},\n",
       " {'type': 'button',\n",
       "  'label': 'g',\n",
       "  'secondary': 'g',\n",
       "  'color': 'rgb(251,243,219)',\n",
       "  'key': 'g'},\n",
       " {'type': 'button',\n",
       "  'label': 'h',\n",
       "  'secondary': 'h',\n",
       "  'color': 'rgb(250,231,212)',\n",
       "  'key': 'h'},\n",
       " {'type': 'button',\n",
       "  'label': 'i',\n",
       "  'secondary': 'i',\n",
       "  'color': 'rgb(250,212,229)',\n",
       "  'key': 'i'}]"
      ]
     },
     "execution_count": 46,
     "metadata": {},
     "output_type": "execute_result"
    }
   ],
   "source": [
    "app.state[\"buttons\"]"
   ]
  },
  {
   "cell_type": "code",
   "execution_count": 53,
   "id": "b7aa32e6-abf8-4eb0-8b88-479a5376361b",
   "metadata": {
    "pycharm": {
     "name": "#%%\n"
    }
   },
   "outputs": [],
   "source": [
    "from metanno import *\n",
    "\n",
    "colors = [\n",
    "    \"rgb(255,200,206)\",\n",
    "    \"rgb(210,236,247)\",\n",
    "    \"rgb(211,242,206)\",\n",
    "    \"rgb(242,242,206)\",\n",
    "    \"rgb(231,210,247)\",\n",
    "    \"rgb(252,215,216)\",\n",
    "    \"rgb(251,243,219)\",\n",
    "    \"rgb(250,231,212)\",\n",
    "    \"rgb(250,212,229)\",\n",
    "]\n",
    "\n",
    "class SimpleApp(App):\n",
    "    def __init__(self, dataset=None, labels=None):\n",
    "        super().__init__()\n",
    "        \n",
    "        if dataset is None:\n",
    "            self.state = {\n",
    "                \"doc_idx\": 0,\n",
    "                \"dataset\": [{\"text\": \"\", \"annotations\": []}],\n",
    "                \"mouse_selection\": [],\n",
    "                \"highlighted\": [],\n",
    "                \"styles\": {},\n",
    "                \"buttons\": [],\n",
    "            }\n",
    "            return\n",
    "        \n",
    "        if labels is None:\n",
    "            labels = sorted(set(ann[\"label\"] for doc in dataset for ann in doc[\"annotations\"]))\n",
    "        used_letters = set()\n",
    "        buttons=[\n",
    "            {\"type\": 'button', \"label\": \"⌫\", \"color\": 'white', \"key\": \"Backspace\"},\n",
    "            {\"type\": 'spacer'},\n",
    "        ]\n",
    "        for label, color in zip(labels, colors):\n",
    "            letter = next((l for l in label.lower() if l not in used_letters))\n",
    "            used_letters.add(letter)\n",
    "            buttons.append({\"type\": 'button', \"label\": label, \"secondary\": letter, \"color\": color, \"key\": letter})\n",
    "\n",
    "        self.state = {\n",
    "            \"doc_idx\": 0,\n",
    "            \"dataset\": dataset if dataset is not None else [],\n",
    "            \"mouse_selection\": [],\n",
    "            \"highlighted\": [],\n",
    "            \"styles\": {label: {\"color\": color, \"alpha\": 0.8} for label, color in zip(labels, colors)},\n",
    "            \"buttons\": buttons,\n",
    "        }\n",
    "        \n",
    "    def on_state_change(self, state, old_state):\n",
    "        #logs.append(state[\"spans\"] is not old_state[\"spans\"])\n",
    "        pass\n",
    "    \n",
    "    def select_editor_state(self, state, editor_id):\n",
    "        if editor_id == \"my-editor\":\n",
    "            if len(state[\"dataset\"]):\n",
    "                doc = state[\"dataset\"][state[\"doc_idx\"]]\n",
    "            else:\n",
    "                doc = {\"text\": \"\", \"annotations\": []}\n",
    "            res = dict(\n",
    "                text=doc[\"text\"],\n",
    "                spans=[{\n",
    "                    \"begin\": span[\"begin\"],\n",
    "                    \"end\": span[\"end\"],\n",
    "                    \"label\": \"Met\",\n",
    "                    \"style\": span[\"label\"],\n",
    "                    \"id\": i,\n",
    "                    \"highlighted\": i in state[\"highlighted\"],\n",
    "                    \"selected\": False,#span[\"selected\"],\n",
    "                } for i, span in enumerate(doc[\"annotations\"])],\n",
    "                styles=state[\"styles\"],\n",
    "                mouse_selection=state[\"mouse_selection\"],\n",
    "                buttons=state[\"buttons\"],\n",
    "            )\n",
    "            return res\n",
    "        elif editor_id == \"docs-table\":\n",
    "            return dict(\n",
    "                rows=[{\n",
    "                    \"document\": {\"key\": i, \"text\": doc[\"text\"]},\n",
    "                    \"key\": i,\n",
    "                    \"#entities\": len(doc[\"annotations\"]),\n",
    "                    \"highlighted\": i == state[\"doc_idx\"],\n",
    "                } for i, doc in enumerate(state[\"dataset\"])],\n",
    "                rowKey=\"key\",\n",
    "                columns=[\n",
    "                    {\n",
    "                        \"name\": \"document\",\n",
    "                        \"type\": \"hyperlink\",\n",
    "                    },\n",
    "                    {\n",
    "                        \"name\": \"#entities\",\n",
    "                        \"readonly\": True,\n",
    "                        \"type\": \"text\",\n",
    "                    },\n",
    "                ],\n",
    "                selectedRows=[],\n",
    "            )\n",
    "        elif editor_id == \"mentions-table\":\n",
    "            text = state[\"dataset\"][state[\"doc_idx\"]][\"text\"]\n",
    "            annotations = state[\"dataset\"][state[\"doc_idx\"]][\"annotations\"]\n",
    "            res = dict(\n",
    "                rows=[{\n",
    "                    \"key\": i,\n",
    "                    \"highlighted\": i in state[\"highlighted\"],\n",
    "                    \"visible\": True,\n",
    "                    \"mention\": {\n",
    "                        \"text\": text[span[\"begin\"]:span[\"end\"]],\n",
    "                        \"key\": i,\n",
    "                    },\n",
    "                    \"begin\": span[\"begin\"],\n",
    "                    \"end\": span[\"end\"],\n",
    "                    \"label\": span[\"label\"],\n",
    "                } for i, span in enumerate(annotations)],\n",
    "                rowKey=\"key\",\n",
    "                columns=[\n",
    "                    {\n",
    "                        \"name\": \"begin\",\n",
    "                        \"type\": \"text\",\n",
    "                    },\n",
    "                    {\n",
    "                        \"name\": \"end\",\n",
    "                        \"type\": \"text\",\n",
    "                    },\n",
    "                    {\n",
    "                        \"name\": \"mention\",\n",
    "                        \"type\": \"hyperlink\",\n",
    "                    },\n",
    "                    {\n",
    "                        \"name\": \"label\",\n",
    "                        \"type\": \"text\",\n",
    "                        \"suggestions\": [button[\"label\"] for button in state[\"buttons\"][2:]],\n",
    "                    },\n",
    "                ],\n",
    "                selectedRows=[],\n",
    "            )\n",
    "            return res\n",
    "        \n",
    "    @produce\n",
    "    def handle_mouse_select(self, editor_id, modkeys, spans):\n",
    "        if \"Shift\" in modkeys:\n",
    "            self.state[\"mouse_selection\"].extend(spans)\n",
    "        else:\n",
    "            self.state[\"mouse_selection\"] = spans\n",
    "    \n",
    "    @produce\n",
    "    @frontend_only\n",
    "    def handle_enter_span(self, editor_id, span_id, modkeys):\n",
    "        self.state[\"highlighted\"].append(span_id)\n",
    "            \n",
    "    @produce\n",
    "    @frontend_only\n",
    "    def handle_leave_span(self, editor_id, span_id, modkeys):\n",
    "        if span_id in self.state[\"highlighted\"]:\n",
    "            self.state[\"highlighted\"].remove(span_id)\n",
    "    \n",
    "    @produce\n",
    "    def handle_key_press(self, editor_id, key, modkeys, spans):\n",
    "        self.custom_command(key, spans)\n",
    "        \n",
    "    @produce\n",
    "    def handle_button_press(self, editor_id, button_idx, selections):\n",
    "        self.custom_command(self.state[\"buttons\"][button_idx][\"key\"], selections)\n",
    "        \n",
    "    def custom_command(self, key, spans):\n",
    "        def has_overlap(x, y):\n",
    "            return not (x['end'] <= y['begin'] or y['end'] <= x['begin'])\n",
    "        text = self.state[\"dataset\"][self.state[\"doc_idx\"]][\"text\"]\n",
    "        if key == \" \":\n",
    "            first_selection = self.state[\"mouse_selection\"][0]\n",
    "            term = text[first_selection[\"begin\"]:first_selection[\"end\"]]\n",
    "            next_occurence = self.state[\"text\"].find(term, self.state[\"mouse_selection\"][len(self.state[\"mouse_selection\"])-1][\"end\"])\n",
    "            if next_occurence > 0:\n",
    "                self.state[\"mouse_selection\"].append({\"begin\": next_occurence, \"end\": next_occurence + len(term)})\n",
    "        if key == \"Backspace\":\n",
    "            self.state[\"dataset\"][self.state[\"doc_idx\"]][\"annotations\"] = [\n",
    "                span\n",
    "                for span in self.state[\"dataset\"][self.state[\"doc_idx\"]][\"annotations\"]\n",
    "                if not any(has_overlap(span, mouse_span) for mouse_span in spans)\n",
    "            ]\n",
    "            self.state.highlighted = []\n",
    "        elif len(spans):\n",
    "            new_spans = []\n",
    "            for span in spans:\n",
    "                for button in self.state[\"buttons\"]:\n",
    "                    if button[\"secondary\"] == key:\n",
    "                        new_spans.append({\n",
    "                            \"begin\": span[\"begin\"],\n",
    "                            \"end\": span[\"end\"],\n",
    "                            \"label\": button[\"label\"],\n",
    "                        })\n",
    "                        added_spans = True\n",
    "            if not len(new_spans):\n",
    "                return\n",
    "            self.state[\"dataset\"][self.state[\"doc_idx\"]][\"annotations\"].extend(new_spans)\n",
    "        self.state[\"mouse_selection\"] = []\n",
    "            \n",
    "    @produce\n",
    "    def handle_click_span(self, editor_id, span_id, modkeys):\n",
    "        if \"Shift\" in modkeys:\n",
    "            for span in self.state[\"spans\"]:\n",
    "                if span['id'] == span_id:\n",
    "                    span['selected'] = not span['selected']\n",
    "    \n",
    "    @produce\n",
    "    def handle_click_cell_content(self, editor_id, key):\n",
    "        if editor_id == \"docs-table\":\n",
    "            self.state[\"doc_idx\"] = key\n",
    "        else:\n",
    "            self.scroll_to_span(\"my-editor\", key)\n",
    "            \n",
    "    @produce\n",
    "    def handle_cell_change(self, editor_id, row_idx, col, value):\n",
    "        if col == \"label\":\n",
    "            self.state[\"dataset\"][self.state[\"doc_idx\"]][\"annotations\"][row_idx][\"label\"] = value\n",
    "    \n",
    "# To update the app when we rerun the cell\n",
    "try: app.set_class(SimpleApp)\n",
    "except: pass"
   ]
  },
  {
   "cell_type": "code",
   "execution_count": 25,
   "id": "1d4fd6ff-9421-49f5-acea-4abaca08713b",
   "metadata": {
    "pycharm": {
     "name": "#%%\n"
    }
   },
   "outputs": [],
   "source": [
    "import base64"
   ]
  },
  {
   "cell_type": "code",
   "execution_count": 45,
   "id": "94b0083f-ad57-499e-9d87-89c994489f13",
   "metadata": {
    "pycharm": {
     "name": "#%%\n"
    }
   },
   "outputs": [],
   "source": [
    "app = SimpleApp([\n",
    "    {\"text\": \"\\nokok\\n  \\n\", \"annotations\": []},\n",
    "    {\"text\": \"I became paranoid that the school of jellyfish was spying on me.\", \"annotations\": []},\n",
    "    {\"text\": \"Nancy decided to make the porta-potty her home.\", \"annotations\": []},\n",
    "    {\"text\": \"There is no better feeling than staring at a wall with closed eyes.\", \"annotations\": []},\n",
    "    {\"text\": \"Of course, she loves her pink bunny slippers.\", \"annotations\": []},\n",
    "    {\"text\": \"He set out for a short walk, but now all he could see were mangroves and water were for miles.\", \"annotations\": []},\n",
    "    {\"text\": \"He was disappointed when he found the beach to be so sandy and the sun so sunny.\", \"annotations\": []},\n",
    "    {\"text\": \"Patricia loves the sound of nails strongly pressed against the chalkboard.\", \"annotations\": []},\n",
    "    {\"text\": \"The teenage boy was accused of breaking his arm simply to get out of the test.\", \"annotations\": []},\n",
    "    {\"text\": \"They finished building the road they knew no one would ever use.\", \"annotations\": []},\n",
    "    {\"text\": \"He found the end of the rainbow and was surprised at what he found there.\", \"annotations\": []},\n",
    "    {\"text\": \"She had convinced her kids that any mushroom found on the ground would kill them if they touched it.\", \"annotations\": []},\n",
    "    {\"text\": \"We have young kids who often walk into our room at night for various reasons including clowns in the closet.\", \"annotations\": []},\n",
    "    {\"text\": \"Mom didn’t understand why no one else wanted a hot tub full of jello.\", \"annotations\": []},\n",
    "    {\"text\": \"It was obvious she was hot, sweaty, and tired.\", \"annotations\": []},\n",
    "    {\"text\": \"He quietly entered the museum as the super bowl started.\", \"annotations\": []},\n",
    "    {\"text\": \"I've never seen a more beautiful brandy glass filled with wine.\", \"annotations\": []},\n",
    "    {\"text\": \"He would only survive if he kept the fire going and he could hear thunder in the distance.\", \"annotations\": []},\n",
    "    {\"text\": \"I’m working on a sweet potato farm.\", \"annotations\": []},\n",
    "    {\"text\": \"100 years old is such a young age if you happen to be a bristlecone pine.\", \"annotations\": []},\n",
    "    {\"text\": \"Art doesn't have to be intentional.\", \"annotations\": []},\n",
    "    {\"text\": \"The door slammed on the watermelon.\", \"annotations\": []},\n",
    "    {\"text\": \"You bite up because of your lower jaw.\", \"annotations\": []},\n",
    "    {\"text\": \"Weather is not trivial - it's especially important when you're standing in it.\", \"annotations\": []},\n",
    "    {\"text\": \"I had a friend in high school named Rick Shaw, but he was fairly useless as a mode of transport.\", \"annotations\": []},\n",
    "    {\"text\": \"They called out her name time and again, but were met with nothing but silence.\", \"annotations\": []},\n",
    "    {\"text\": \"The thunderous roar of the jet overhead confirmed her worst fears.\", \"annotations\": []},\n",
    "    {\"text\": \"The tree fell unexpectedly short.\", \"annotations\": []},\n",
    "    {\"text\": \"It was difficult for Mary to admit that most of her workout consisted of exercising poor judgment.\", \"annotations\": []},\n",
    "    {\"text\": \"She was the type of girl that always burnt sugar to show she cared.\", \"annotations\": []},\n",
    "    {\"text\": \"The hawk didn’t understand why the ground squirrels didn’t want to be his friend.\", \"annotations\": []},\n",
    "    {\"text\": \"The swirled lollipop had issues with the pop rock candy.\", \"annotations\": []},\n",
    "    {\"text\": \"Various sea birds are elegant, but nothing is as elegant as a gliding pelican.\", \"annotations\": []},\n",
    "    {\"text\": \"She folded her handkerchief neatly.\", \"annotations\": []},\n",
    "    {\"text\": \"Instead of a bachelorette party\", \"annotations\": []},\n",
    "    {\"text\": \"She wanted a pet platypus but ended up getting a duck and a ferret instead.\", \"annotations\": []},\n",
    "    {\"text\": \"The team members were hard to tell apart since they all wore their hair in a ponytail.\", \"annotations\": []},\n",
    "    {\"text\": \"A song can make or ruin a person’s day if they let it get to them.\", \"annotations\": []},\n",
    "    {\"text\": \"The green tea and avocado smoothie turned out exactly as would be expected.\", \"annotations\": []},\n",
    "    {\"text\": \"She couldn't decide of the glass was half empty or half full so she drank it.\", \"annotations\": []},\n",
    "], [\"a\", \"b\", \"c\", \"d\", \"e\", \"f\", \"g\", \"h\", \"i\"])\n"
   ]
  },
  {
   "cell_type": "code",
   "execution_count": 14,
   "id": "f3e49e25-2ad4-46b1-b854-b1d7c42609c3",
   "metadata": {
    "pycharm": {
     "name": "#%%\n"
    }
   },
   "outputs": [],
   "source": [
    "app.state[\"dataset\"][0][\"annotations\"].clear()"
   ]
  },
  {
   "cell_type": "code",
   "execution_count": 44,
   "id": "6898f7c8-41c3-4113-9cd4-9c44956ec6c6",
   "metadata": {
    "pycharm": {
     "name": "#%%\n"
    }
   },
   "outputs": [],
   "source": [
    "app.state[\"highlighted\"].clear()"
   ]
  },
  {
   "cell_type": "code",
   "execution_count": 15,
   "id": "777b871e-1eaa-4bdd-86b1-f451a3bb2cb1",
   "metadata": {
    "pycharm": {
     "name": "#%%\n"
    }
   },
   "outputs": [
    {
     "data": {
      "text/plain": [
       "{'text/plain': '<metanno.views.SpanEditor object at 0x7ff05a46d0a0>',\n",
       " 'application/vnd.jupyter.annotator+json': {'version_major': 0,\n",
       "  'version_minor': 0,\n",
       "  'editor-type': 'span-editor',\n",
       "  'editor-id': 'my-editor'}}"
      ]
     },
     "execution_count": 15,
     "metadata": {},
     "output_type": "execute_result"
    }
   ],
   "source": [
    "s._repr_mimebundle_()"
   ]
  },
  {
   "cell_type": "code",
   "execution_count": 14,
   "id": "6ee83a17-6b5a-4ec8-acb0-7e9c546e7296",
   "metadata": {
    "collapsed": true,
    "jupyter": {
     "outputs_hidden": true
    },
    "tags": [],
    "pycharm": {
     "name": "#%%\n"
    }
   },
   "outputs": [
    {
     "data": {
      "application/vnd.jupyter.annotator+json": {
       "editor-id": "my-editor",
       "editor-type": "span-editor",
       "version_major": 0,
       "version_minor": 0
      },
      "text/plain": [
       "<metanno.views.SpanEditor object at 0x7fa116b59850>"
      ]
     },
     "execution_count": 14,
     "metadata": {},
     "output_type": "execute_result"
    }
   ],
   "source": [
    "app.span_editor(\"my-editor\")"
   ]
  },
  {
   "cell_type": "code",
   "execution_count": 69,
   "id": "d9e46421-6da4-4d77-a238-188031dab484",
   "metadata": {
    "collapsed": true,
    "jupyter": {
     "outputs_hidden": true
    },
    "tags": [],
    "pycharm": {
     "name": "#%%\n"
    }
   },
   "outputs": [
    {
     "data": {
      "application/vnd.jupyter.annotator+json": {
       "editor-id": "mentions-table",
       "editor-type": "table-editor",
       "version_major": 0,
       "version_minor": 0
      },
      "text/plain": [
       "<metanno.views.TableEditor object at 0x7feab2d20250>"
      ]
     },
     "execution_count": 69,
     "metadata": {},
     "output_type": "execute_result"
    }
   ],
   "source": [
    "app.table_editor(\"mentions-table\")"
   ]
  },
  {
   "cell_type": "code",
   "execution_count": 40,
   "id": "d294ec1d-3cf9-4139-8a18-4006f9eed7c6",
   "metadata": {
    "collapsed": true,
    "jupyter": {
     "outputs_hidden": true
    },
    "tags": [],
    "pycharm": {
     "name": "#%%\n"
    }
   },
   "outputs": [
    {
     "data": {
      "application/vnd.jupyter.annotator+json": {
       "editor-id": "docs-table",
       "editor-type": "table-editor",
       "version_major": 0,
       "version_minor": 0
      },
      "text/plain": [
       "<metanno.views.TableEditor object at 0x7fa116ed6c40>"
      ]
     },
     "execution_count": 40,
     "metadata": {},
     "output_type": "execute_result"
    }
   ],
   "source": [
    "app.table_editor(\"docs-table\")"
   ]
  },
  {
   "cell_type": "code",
   "execution_count": 4,
   "id": "36927843-75ec-476d-97bd-5548ab84721e",
   "metadata": {
    "pycharm": {
     "name": "#%%\n"
    }
   },
   "outputs": [
    {
     "data": {
      "text/plain": [
       "{'doc_idx': 0,\n",
       " 'dataset': [{'text': 'Metanno Met anno', 'annotations': []},\n",
       "  {'text': 'I became paranoid that the school of jellyfish was spying on me.',\n",
       "   'annotations': []},\n",
       "  {'text': 'Nancy decided to make the porta-potty her home.',\n",
       "   'annotations': []},\n",
       "  {'text': 'There is no better feeling than staring at a wall with closed eyes.',\n",
       "   'annotations': []},\n",
       "  {'text': 'Of course, she loves her pink bunny slippers.', 'annotations': []},\n",
       "  {'text': 'He set out for a short walk, but now all he could see were mangroves and water were for miles.',\n",
       "   'annotations': []},\n",
       "  {'text': 'He was disappointed when he found the beach to be so sandy and the sun so sunny.',\n",
       "   'annotations': []},\n",
       "  {'text': 'Patricia loves the sound of nails strongly pressed against the chalkboard.',\n",
       "   'annotations': []},\n",
       "  {'text': 'The teenage boy was accused of breaking his arm simply to get out of the test.',\n",
       "   'annotations': []},\n",
       "  {'text': 'They finished building the road they knew no one would ever use.',\n",
       "   'annotations': []},\n",
       "  {'text': 'He found the end of the rainbow and was surprised at what he found there.',\n",
       "   'annotations': []},\n",
       "  {'text': 'She had convinced her kids that any mushroom found on the ground would kill them if they touched it.',\n",
       "   'annotations': []},\n",
       "  {'text': 'We have young kids who often walk into our room at night for various reasons including clowns in the closet.',\n",
       "   'annotations': []},\n",
       "  {'text': 'Mom didn’t understand why no one else wanted a hot tub full of jello.',\n",
       "   'annotations': []},\n",
       "  {'text': 'It was obvious she was hot, sweaty, and tired.',\n",
       "   'annotations': []},\n",
       "  {'text': 'He quietly entered the museum as the super bowl started.',\n",
       "   'annotations': []},\n",
       "  {'text': \"I've never seen a more beautiful brandy glass filled with wine.\",\n",
       "   'annotations': []},\n",
       "  {'text': 'He would only survive if he kept the fire going and he could hear thunder in the distance.',\n",
       "   'annotations': []},\n",
       "  {'text': 'I’m working on a sweet potato farm.', 'annotations': []},\n",
       "  {'text': '100 years old is such a young age if you happen to be a bristlecone pine.',\n",
       "   'annotations': []},\n",
       "  {'text': \"Art doesn't have to be intentional.\", 'annotations': []},\n",
       "  {'text': 'The door slammed on the watermelon.', 'annotations': []},\n",
       "  {'text': 'You bite up because of your lower jaw.', 'annotations': []},\n",
       "  {'text': \"Weather is not trivial - it's especially important when you're standing in it.\",\n",
       "   'annotations': []},\n",
       "  {'text': 'I had a friend in high school named Rick Shaw, but he was fairly useless as a mode of transport.',\n",
       "   'annotations': []},\n",
       "  {'text': 'They called out her name time and again, but were met with nothing but silence.',\n",
       "   'annotations': []},\n",
       "  {'text': 'The thunderous roar of the jet overhead confirmed her worst fears.',\n",
       "   'annotations': []},\n",
       "  {'text': 'The tree fell unexpectedly short.', 'annotations': []},\n",
       "  {'text': 'It was difficult for Mary to admit that most of her workout consisted of exercising poor judgment.',\n",
       "   'annotations': []},\n",
       "  {'text': 'She was the type of girl that always burnt sugar to show she cared.',\n",
       "   'annotations': []},\n",
       "  {'text': 'The hawk didn’t understand why the ground squirrels didn’t want to be his friend.',\n",
       "   'annotations': []},\n",
       "  {'text': 'The swirled lollipop had issues with the pop rock candy.',\n",
       "   'annotations': []},\n",
       "  {'text': 'Various sea birds are elegant, but nothing is as elegant as a gliding pelican.',\n",
       "   'annotations': []},\n",
       "  {'text': 'She folded her handkerchief neatly.', 'annotations': []},\n",
       "  {'text': 'Instead of a bachelorette party', 'annotations': []},\n",
       "  {'text': 'She wanted a pet platypus but ended up getting a duck and a ferret instead.',\n",
       "   'annotations': []},\n",
       "  {'text': 'The team members were hard to tell apart since they all wore their hair in a ponytail.',\n",
       "   'annotations': []},\n",
       "  {'text': 'A song can make or ruin a person’s day if they let it get to them.',\n",
       "   'annotations': []},\n",
       "  {'text': 'The green tea and avocado smoothie turned out exactly as would be expected.',\n",
       "   'annotations': []},\n",
       "  {'text': \"She couldn't decide of the glass was half empty or half full so she drank it.\",\n",
       "   'annotations': []}],\n",
       " 'mouse_selection': [],\n",
       " 'highlighted': [],\n",
       " 'styles': {'a': {'color': 'rgb(255,200,206)', 'alpha': 0.8},\n",
       "  'b': {'color': 'rgb(210,236,247)', 'alpha': 0.8},\n",
       "  'c': {'color': 'rgb(211,242,206)', 'alpha': 0.8},\n",
       "  'd': {'color': 'rgb(242,242,206)', 'alpha': 0.8},\n",
       "  'e': {'color': 'rgb(231,210,247)', 'alpha': 0.8},\n",
       "  'f': {'color': 'rgb(252,215,216)', 'alpha': 0.8},\n",
       "  'g': {'color': 'rgb(251,243,219)', 'alpha': 0.8},\n",
       "  'h': {'color': 'rgb(250,231,212)', 'alpha': 0.8},\n",
       "  'i': {'color': 'rgb(250,212,229)', 'alpha': 0.8}},\n",
       " 'buttons': [{'type': 'button',\n",
       "   'label': '⌫',\n",
       "   'color': 'white',\n",
       "   'key': 'Backspace'},\n",
       "  {'type': 'spacer'},\n",
       "  {'type': 'button',\n",
       "   'label': 'a',\n",
       "   'secondary': 'a',\n",
       "   'color': 'rgb(255,200,206)',\n",
       "   'key': 'a'},\n",
       "  {'type': 'button',\n",
       "   'label': 'b',\n",
       "   'secondary': 'b',\n",
       "   'color': 'rgb(210,236,247)',\n",
       "   'key': 'b'},\n",
       "  {'type': 'button',\n",
       "   'label': 'c',\n",
       "   'secondary': 'c',\n",
       "   'color': 'rgb(211,242,206)',\n",
       "   'key': 'c'},\n",
       "  {'type': 'button',\n",
       "   'label': 'd',\n",
       "   'secondary': 'd',\n",
       "   'color': 'rgb(242,242,206)',\n",
       "   'key': 'd'},\n",
       "  {'type': 'button',\n",
       "   'label': 'e',\n",
       "   'secondary': 'e',\n",
       "   'color': 'rgb(231,210,247)',\n",
       "   'key': 'e'},\n",
       "  {'type': 'button',\n",
       "   'label': 'f',\n",
       "   'secondary': 'f',\n",
       "   'color': 'rgb(252,215,216)',\n",
       "   'key': 'f'},\n",
       "  {'type': 'button',\n",
       "   'label': 'g',\n",
       "   'secondary': 'g',\n",
       "   'color': 'rgb(251,243,219)',\n",
       "   'key': 'g'},\n",
       "  {'type': 'button',\n",
       "   'label': 'h',\n",
       "   'secondary': 'h',\n",
       "   'color': 'rgb(250,231,212)',\n",
       "   'key': 'h'},\n",
       "  {'type': 'button',\n",
       "   'label': 'i',\n",
       "   'secondary': 'i',\n",
       "   'color': 'rgb(250,212,229)',\n",
       "   'key': 'i'}]}"
      ]
     },
     "execution_count": 4,
     "metadata": {},
     "output_type": "execute_result"
    }
   ],
   "source": [
    "app.state"
   ]
  },
  {
   "cell_type": "code",
   "execution_count": 5,
   "id": "c8978725-67e9-493b-b8cc-147ecae70bb2",
   "metadata": {
    "pycharm": {
     "name": "#%%\n"
    }
   },
   "outputs": [],
   "source": [
    "import pandas as pd"
   ]
  },
  {
   "cell_type": "code",
   "execution_count": 7,
   "id": "2c8d5f03-7c0d-4e24-af06-6b3ae3a20ba0",
   "metadata": {
    "pycharm": {
     "name": "#%%\n"
    }
   },
   "outputs": [
    {
     "data": {
      "text/plain": [
       "[{'begin': 0, 'end': 7, 'label': 'a'},\n",
       " {'begin': <metanno.immutable.AutoProxy at 0x7fbb567cbe50>,\n",
       "  'end': <metanno.immutable.AutoProxy at 0x7fbb567cbee0>,\n",
       "  'label': 'a'}]"
      ]
     },
     "execution_count": 7,
     "metadata": {},
     "output_type": "execute_result"
    }
   ],
   "source": [
    "[dict(ann) for row in app.state[\"dataset\"] for ann in row[\"annotations\"]]"
   ]
  },
  {
   "cell_type": "code",
   "execution_count": 11,
   "id": "a9f43147-510e-4212-8889-8afce07185b8",
   "metadata": {
    "pycharm": {
     "name": "#%%\n"
    }
   },
   "outputs": [],
   "source": [
    "#app.state[\"dataset\"][0][\"annotations\"].clear()"
   ]
  },
  {
   "cell_type": "code",
   "execution_count": 20,
   "id": "672806ce-5c8e-4870-a4b4-49ff766d959a",
   "metadata": {
    "pycharm": {
     "name": "#%%\n"
    }
   },
   "outputs": [
    {
     "data": {
      "text/plain": [
       "[{'text': 'Metanno Met anno',\n",
       "  'annotations': [{'begin': 0, 'end': 7, 'label': 'a'}]},\n",
       " {'text': 'I became paranoid that the school of jellyfish was spying on me.',\n",
       "  'annotations': []},\n",
       " {'text': 'Nancy decided to make the porta-potty her home.',\n",
       "  'annotations': []},\n",
       " {'text': 'There is no better feeling than staring at a wall with closed eyes.',\n",
       "  'annotations': []},\n",
       " {'text': 'Of course, she loves her pink bunny slippers.', 'annotations': []},\n",
       " {'text': 'He set out for a short walk, but now all he could see were mangroves and water were for miles.',\n",
       "  'annotations': []},\n",
       " {'text': 'He was disappointed when he found the beach to be so sandy and the sun so sunny.',\n",
       "  'annotations': []},\n",
       " {'text': 'Patricia loves the sound of nails strongly pressed against the chalkboard.',\n",
       "  'annotations': []},\n",
       " {'text': 'The teenage boy was accused of breaking his arm simply to get out of the test.',\n",
       "  'annotations': []},\n",
       " {'text': 'They finished building the road they knew no one would ever use.',\n",
       "  'annotations': []},\n",
       " {'text': 'He found the end of the rainbow and was surprised at what he found there.',\n",
       "  'annotations': []},\n",
       " {'text': 'She had convinced her kids that any mushroom found on the ground would kill them if they touched it.',\n",
       "  'annotations': []},\n",
       " {'text': 'We have young kids who often walk into our room at night for various reasons including clowns in the closet.',\n",
       "  'annotations': []},\n",
       " {'text': 'Mom didn’t understand why no one else wanted a hot tub full of jello.',\n",
       "  'annotations': []},\n",
       " {'text': 'It was obvious she was hot, sweaty, and tired.', 'annotations': []},\n",
       " {'text': 'He quietly entered the museum as the super bowl started.',\n",
       "  'annotations': []},\n",
       " {'text': \"I've never seen a more beautiful brandy glass filled with wine.\",\n",
       "  'annotations': []},\n",
       " {'text': 'He would only survive if he kept the fire going and he could hear thunder in the distance.',\n",
       "  'annotations': []},\n",
       " {'text': 'I’m working on a sweet potato farm.', 'annotations': []},\n",
       " {'text': '100 years old is such a young age if you happen to be a bristlecone pine.',\n",
       "  'annotations': []},\n",
       " {'text': \"Art doesn't have to be intentional.\", 'annotations': []},\n",
       " {'text': 'The door slammed on the watermelon.', 'annotations': []},\n",
       " {'text': 'You bite up because of your lower jaw.', 'annotations': []},\n",
       " {'text': \"Weather is not trivial - it's especially important when you're standing in it.\",\n",
       "  'annotations': []},\n",
       " {'text': 'I had a friend in high school named Rick Shaw, but he was fairly useless as a mode of transport.',\n",
       "  'annotations': []},\n",
       " {'text': 'They called out her name time and again, but were met with nothing but silence.',\n",
       "  'annotations': []},\n",
       " {'text': 'The thunderous roar of the jet overhead confirmed her worst fears.',\n",
       "  'annotations': []},\n",
       " {'text': 'The tree fell unexpectedly short.', 'annotations': []},\n",
       " {'text': 'It was difficult for Mary to admit that most of her workout consisted of exercising poor judgment.',\n",
       "  'annotations': []},\n",
       " {'text': 'She was the type of girl that always burnt sugar to show she cared.',\n",
       "  'annotations': []},\n",
       " {'text': 'The hawk didn’t understand why the ground squirrels didn’t want to be his friend.',\n",
       "  'annotations': []},\n",
       " {'text': 'The swirled lollipop had issues with the pop rock candy.',\n",
       "  'annotations': []},\n",
       " {'text': 'Various sea birds are elegant, but nothing is as elegant as a gliding pelican.',\n",
       "  'annotations': []},\n",
       " {'text': 'She folded her handkerchief neatly.', 'annotations': []},\n",
       " {'text': 'Instead of a bachelorette party', 'annotations': []},\n",
       " {'text': 'She wanted a pet platypus but ended up getting a duck and a ferret instead.',\n",
       "  'annotations': []},\n",
       " {'text': 'The team members were hard to tell apart since they all wore their hair in a ponytail.',\n",
       "  'annotations': []},\n",
       " {'text': 'A song can make or ruin a person’s day if they let it get to them.',\n",
       "  'annotations': []},\n",
       " {'text': 'The green tea and avocado smoothie turned out exactly as would be expected.',\n",
       "  'annotations': []},\n",
       " {'text': \"She couldn't decide of the glass was half empty or half full so she drank it.\",\n",
       "  'annotations': []}]"
      ]
     },
     "execution_count": 20,
     "metadata": {},
     "output_type": "execute_result"
    }
   ],
   "source": [
    "app.state[\"dataset\"]#[0][\"annotations\"]"
   ]
  },
  {
   "cell_type": "code",
   "execution_count": 7,
   "id": "e7e60d49-01c2-48e2-985e-ab9ee2cdff4e",
   "metadata": {
    "pycharm": {
     "name": "#%%\n"
    }
   },
   "outputs": [
    {
     "data": {
      "text/html": [
       "<div>\n",
       "<style scoped>\n",
       "    .dataframe tbody tr th:only-of-type {\n",
       "        vertical-align: middle;\n",
       "    }\n",
       "\n",
       "    .dataframe tbody tr th {\n",
       "        vertical-align: top;\n",
       "    }\n",
       "\n",
       "    .dataframe thead th {\n",
       "        text-align: right;\n",
       "    }\n",
       "</style>\n",
       "<table border=\"1\" class=\"dataframe\">\n",
       "  <thead>\n",
       "    <tr style=\"text-align: right;\">\n",
       "      <th></th>\n",
       "    </tr>\n",
       "  </thead>\n",
       "  <tbody>\n",
       "    <tr>\n",
       "      <th>0</th>\n",
       "    </tr>\n",
       "    <tr>\n",
       "      <th>1</th>\n",
       "    </tr>\n",
       "  </tbody>\n",
       "</table>\n",
       "</div>"
      ],
      "text/plain": [
       "Empty DataFrame\n",
       "Columns: []\n",
       "Index: [0, 1]"
      ]
     },
     "execution_count": 7,
     "metadata": {},
     "output_type": "execute_result"
    }
   ],
   "source": [
    "pd.DataFrame([dict(ann) for row in app.state[\"dataset\"] for ann in row[\"annotations\"]])"
   ]
  },
  {
   "cell_type": "code",
   "execution_count": 21,
   "id": "54b368ba-389f-400f-83bb-e6d1dd91cbd5",
   "metadata": {
    "pycharm": {
     "name": "#%%\n"
    }
   },
   "outputs": [
    {
     "data": {
      "text/html": [
       "<div>\n",
       "<style scoped>\n",
       "    .dataframe tbody tr th:only-of-type {\n",
       "        vertical-align: middle;\n",
       "    }\n",
       "\n",
       "    .dataframe tbody tr th {\n",
       "        vertical-align: top;\n",
       "    }\n",
       "\n",
       "    .dataframe thead th {\n",
       "        text-align: right;\n",
       "    }\n",
       "</style>\n",
       "<table border=\"1\" class=\"dataframe\">\n",
       "  <thead>\n",
       "    <tr style=\"text-align: right;\">\n",
       "      <th></th>\n",
       "      <th>begin</th>\n",
       "      <th>end</th>\n",
       "      <th>label</th>\n",
       "    </tr>\n",
       "  </thead>\n",
       "  <tbody>\n",
       "    <tr>\n",
       "      <th>0</th>\n",
       "      <td>0</td>\n",
       "      <td>7</td>\n",
       "      <td>a</td>\n",
       "    </tr>\n",
       "  </tbody>\n",
       "</table>\n",
       "</div>"
      ],
      "text/plain": [
       "   begin  end label\n",
       "0      0    7     a"
      ]
     },
     "execution_count": 21,
     "metadata": {},
     "output_type": "execute_result"
    }
   ],
   "source": [
    "pd.DataFrame([ann for row in app.state[\"dataset\"] for ann in row[\"annotations\"]])"
   ]
  },
  {
   "cell_type": "code",
   "execution_count": 22,
   "id": "8b5a2f9e-7eda-48b8-b687-86ec09490154",
   "metadata": {
    "pycharm": {
     "name": "#%%\n"
    }
   },
   "outputs": [
    {
     "data": {
      "text/html": [
       "<div>\n",
       "<style scoped>\n",
       "    .dataframe tbody tr th:only-of-type {\n",
       "        vertical-align: middle;\n",
       "    }\n",
       "\n",
       "    .dataframe tbody tr th {\n",
       "        vertical-align: top;\n",
       "    }\n",
       "\n",
       "    .dataframe thead th {\n",
       "        text-align: right;\n",
       "    }\n",
       "</style>\n",
       "<table border=\"1\" class=\"dataframe\">\n",
       "  <thead>\n",
       "    <tr style=\"text-align: right;\">\n",
       "      <th></th>\n",
       "      <th>begin</th>\n",
       "      <th>end</th>\n",
       "      <th>label</th>\n",
       "    </tr>\n",
       "  </thead>\n",
       "  <tbody>\n",
       "    <tr>\n",
       "      <th>0</th>\n",
       "      <td>0</td>\n",
       "      <td>7</td>\n",
       "      <td>a</td>\n",
       "    </tr>\n",
       "  </tbody>\n",
       "</table>\n",
       "</div>"
      ],
      "text/plain": [
       "   begin  end label\n",
       "0      0    7     a"
      ]
     },
     "execution_count": 22,
     "metadata": {},
     "output_type": "execute_result"
    }
   ],
   "source": [
    "pd.DataFrame(app.state[\"dataset\"][0][\"annotations\"])"
   ]
  },
  {
   "cell_type": "code",
   "execution_count": null,
   "id": "b4f9e141-5608-409e-b82a-87b5d7a442c6",
   "metadata": {
    "pycharm": {
     "name": "#%%\n"
    }
   },
   "outputs": [],
   "source": [
    "    "
   ]
  }
 ],
 "metadata": {
  "kernelspec": {
   "display_name": "Python 3",
   "language": "python",
   "name": "python3"
  },
  "language_info": {
   "codemirror_mode": {
    "name": "ipython",
    "version": 3
   },
   "file_extension": ".py",
   "mimetype": "text/x-python",
   "name": "python",
   "nbconvert_exporter": "python",
   "pygments_lexer": "ipython3",
   "version": "3.8.8"
  },
  "widgets": {
   "application/vnd.jupyter.widget-state+json": {
    "state": {},
    "version_major": 2,
    "version_minor": 0
   }
  }
 },
 "nbformat": 4,
 "nbformat_minor": 5
}